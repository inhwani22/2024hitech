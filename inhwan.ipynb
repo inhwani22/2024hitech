{
 "cells": [
  {
   "cell_type": "code",
   "execution_count": 1,
   "metadata": {},
   "outputs": [
    {
     "name": "stdout",
     "output_type": "stream",
     "text": [
      "Collecting opencv-python\n",
      "  Downloading opencv_python-4.9.0.80-cp37-abi3-win_amd64.whl.metadata (20 kB)\n",
      "Collecting numpy>=1.21.2 (from opencv-python)\n",
      "  Downloading numpy-1.26.4-cp312-cp312-win_amd64.whl.metadata (61 kB)\n",
      "     ---------------------------------------- 0.0/61.0 kB ? eta -:--:--\n",
      "     ------ --------------------------------- 10.2/61.0 kB ? eta -:--:--\n",
      "     -------------------------------------- 61.0/61.0 kB 806.3 kB/s eta 0:00:00\n",
      "Downloading opencv_python-4.9.0.80-cp37-abi3-win_amd64.whl (38.6 MB)\n",
      "   ---------------------------------------- 0.0/38.6 MB ? eta -:--:--\n",
      "    --------------------------------------- 0.6/38.6 MB 13.3 MB/s eta 0:00:03\n",
      "   - -------------------------------------- 1.5/38.6 MB 16.2 MB/s eta 0:00:03\n",
      "   -- ------------------------------------- 2.8/38.6 MB 19.8 MB/s eta 0:00:02\n",
      "   ---- ----------------------------------- 4.5/38.6 MB 24.3 MB/s eta 0:00:02\n",
      "   ------- -------------------------------- 6.8/38.6 MB 28.9 MB/s eta 0:00:02\n",
      "   ---------- ----------------------------- 10.1/38.6 MB 35.7 MB/s eta 0:00:01\n",
      "   ------------- -------------------------- 13.4/38.6 MB 59.5 MB/s eta 0:00:01\n",
      "   ----------------- ---------------------- 17.2/38.6 MB 72.6 MB/s eta 0:00:01\n",
      "   ---------------------- ----------------- 22.1/38.6 MB 81.8 MB/s eta 0:00:01\n",
      "   ---------------------------- ----------- 27.9/38.6 MB 131.2 MB/s eta 0:00:01\n",
      "   --------------------------------- ------ 32.8/38.6 MB 131.2 MB/s eta 0:00:01\n",
      "   ---------------------------------------  37.7/38.6 MB 108.8 MB/s eta 0:00:01\n",
      "   ---------------------------------------  38.6/38.6 MB 110.0 MB/s eta 0:00:01\n",
      "   ---------------------------------------  38.6/38.6 MB 110.0 MB/s eta 0:00:01\n",
      "   ---------------------------------------  38.6/38.6 MB 110.0 MB/s eta 0:00:01\n",
      "   ---------------------------------------  38.6/38.6 MB 110.0 MB/s eta 0:00:01\n",
      "   ---------------------------------------- 38.6/38.6 MB 34.6 MB/s eta 0:00:00\n",
      "Downloading numpy-1.26.4-cp312-cp312-win_amd64.whl (15.5 MB)\n",
      "   ---------------------------------------- 0.0/15.5 MB ? eta -:--:--\n",
      "   ------------ --------------------------- 4.7/15.5 MB 99.6 MB/s eta 0:00:01\n",
      "   --------------------------- ------------ 10.5/15.5 MB 108.8 MB/s eta 0:00:01\n",
      "   ---------------------------------------  15.3/15.5 MB 108.8 MB/s eta 0:00:01\n",
      "   ---------------------------------------  15.5/15.5 MB 108.8 MB/s eta 0:00:01\n",
      "   ---------------------------------------- 15.5/15.5 MB 72.5 MB/s eta 0:00:00\n",
      "Installing collected packages: numpy, opencv-python\n",
      "Successfully installed numpy-1.26.4 opencv-python-4.9.0.80\n",
      "Note: you may need to restart the kernel to use updated packages.\n"
     ]
    }
   ],
   "source": [
    "pip install opencv-python"
   ]
  },
  {
   "cell_type": "markdown",
   "metadata": {},
   "source": [
    "01_환경설정"
   ]
  },
  {
   "cell_type": "code",
   "execution_count": 2,
   "metadata": {},
   "outputs": [
    {
     "data": {
      "text/plain": [
       "'4.9.0'"
      ]
     },
     "execution_count": 2,
     "metadata": {},
     "output_type": "execute_result"
    }
   ],
   "source": [
    "import cv2\n",
    "cv2.__version__"
   ]
  },
  {
   "cell_type": "code",
   "execution_count": 6,
   "metadata": {},
   "outputs": [],
   "source": [
    "import cv2\n",
    "cv2.__version__\n",
    "import cv2\n",
    "img = cv2.imread('cat.png') # 해당 경로의 파일 읽어오기\n",
    "cv2.imshow('cat', img) # img 라는 이름의 창에 img 를 표시\n",
    "cv2.waitKey(0) # 지정된 시간(ms) 동안 사용자 키 입력 대기\n",
    "cv2.destroyAllWindows() # 모든 창 닫기\n",
    "\n"
   ]
  },
  {
   "cell_type": "markdown",
   "metadata": {},
   "source": [
    "02_이미지출력_일반,흑백,투명"
   ]
  },
  {
   "cell_type": "code",
   "execution_count": 7,
   "metadata": {},
   "outputs": [],
   "source": [
    "import cv2\n",
    "img_color = cv2.imread('cat.png', cv2.IMREAD_COLOR)\n",
    "img_gray = cv2.imread('cat.png', cv2.IMREAD_GRAYSCALE)\n",
    "img_unchanged = cv2.imread('cat.png', cv2.IMREAD_UNCHANGED)\n",
    "\n",
    "cv2.imshow('img_color', img_color)\n",
    "cv2.imshow('img_gray', img_gray)\n",
    "cv2.imshow('img_unchanged', img_unchanged)\n",
    "\n",
    "cv2.waitKey(0)\n",
    "cv2.destroyAllWindows()\n"
   ]
  },
  {
   "cell_type": "code",
   "execution_count": 11,
   "metadata": {},
   "outputs": [
    {
     "data": {
      "text/plain": [
       "(360, 640, 3)"
      ]
     },
     "execution_count": 11,
     "metadata": {},
     "output_type": "execute_result"
    }
   ],
   "source": [
    "import cv2\n",
    "img = cv2.imread('cat.png')\n",
    "img.shape # 세로, 가로, Channel\n"
   ]
  },
  {
   "cell_type": "markdown",
   "metadata": {},
   "source": [
    "03_ 동영상 출력"
   ]
  },
  {
   "cell_type": "code",
   "execution_count": 14,
   "metadata": {},
   "outputs": [
    {
     "name": "stdout",
     "output_type": "stream",
     "text": [
      "더 이상 가져올 프레임이 없어요\n"
     ]
    }
   ],
   "source": [
    "import cv2\n",
    "cap = cv2.VideoCapture('moviecat.mp4')\n",
    "\n",
    "while cap.isOpened(): # 동영상 파일이 올바로 열렸는지?\n",
    "    ret, frame = cap.read() # ret : 성공 여부,  frame : 받아온 이미지 (프레임)\n",
    "    if not ret:\n",
    "        print('더 이상 가져올 프레임이 없어요')\n",
    "        break\n",
    "        \n",
    "    cv2.imshow('video', frame)\n",
    "    \n",
    "    if cv2.waitKey(1) == ord('q'):\n",
    "        print('사용자 입력에 의해 종료합니다')\n",
    "        break\n",
    "        \n",
    "cap.release() # 자원 해제\n",
    "cv2.destroyAllWindows() # 모든 창 닫기"
   ]
  },
  {
   "cell_type": "code",
   "execution_count": 20,
   "metadata": {},
   "outputs": [],
   "source": [
    "import cv2\n",
    "cap = cv2.VideoCapture(0) # 0번째 카메라 장치 (Device ID)\n",
    "\n",
    "if not cap.isOpened(): # 카메라가 잘 열리지 않은 경우\n",
    "    exit() # 프로그램 종료\n",
    "    \n",
    "while True:\n",
    "    ret, frame = cap.read()\n",
    "    if not ret:\n",
    "        break\n",
    "        \n",
    "    cv2.imshow('camera', frame)\n",
    "    if cv2.waitKey(1) == ord('q'): # 사용자가 q 를 입력하면 \n",
    "        break\n",
    "        \n",
    "cap.release()\n",
    "cv2.destroyAllWindows()"
   ]
  },
  {
   "cell_type": "markdown",
   "metadata": {},
   "source": [
    "05_도형그리기\n",
    "빈 스케치북 만들기"
   ]
  },
  {
   "cell_type": "code",
   "execution_count": 25,
   "metadata": {},
   "outputs": [],
   "source": [
    "import cv2\n",
    "import numpy as np\n",
    "\n",
    "# 세로 480 x 가로 640, 3 Channel (RGB) 에 해당하는 스케치북 만들기\n",
    "img = np.zeros((480, 640, 3), dtype=np.uint8)\n",
    "# img[:] = (0, 0, 255) # 전체 공간을 흰 색으로 채우기\n",
    "# print(img)\n",
    "cv2.imshow('img', img)\n",
    "cv2.waitKey(0)\n",
    "cv2.destroyAllWindows()"
   ]
  },
  {
   "cell_type": "markdown",
   "metadata": {},
   "source": [
    "06_일부영역색칠"
   ]
  },
  {
   "cell_type": "code",
   "execution_count": 26,
   "metadata": {},
   "outputs": [],
   "source": [
    "import cv2\n",
    "import numpy as np\n",
    "img = np.zeros((480, 640, 3), dtype=np.uint8)\n",
    "img[100:200, 200:300] = (255, 255, 255)\n",
    "# [세로 영역, 가로 영역]\n",
    "cv2.imshow('img', img)\n",
    "cv2.waitKey(0)\n",
    "cv2.destroyAllWindows()\n"
   ]
  },
  {
   "cell_type": "markdown",
   "metadata": {},
   "source": [
    "직선그리기"
   ]
  },
  {
   "cell_type": "code",
   "execution_count": 27,
   "metadata": {},
   "outputs": [],
   "source": [
    "#직선 그리기\n",
    "import cv2\n",
    "import numpy as np\n",
    "img = np.zeros((480, 640, 3), dtype=np.uint8)\n",
    "COLOR = (0, 255, 255) # BGR : Yellow, 색깔\n",
    "THICKNESS = 3 # 두께\n",
    "cv2.line(img, (50, 100), (400, 50), COLOR, THICKNESS, cv2.LINE_8)\n",
    "# 그릴 위치, 시작 점, 끝 점, 색깔, 두께, 선 종류\n",
    "cv2.line(img, (50, 200), (400, 150), COLOR, THICKNESS, cv2.LINE_4)\n",
    "cv2.line(img, (50, 300), (400, 250), COLOR, THICKNESS, cv2.LINE_AA)\n",
    "cv2.imshow('img', img)\n",
    "cv2.waitKey(0)\n",
    "cv2.destroyAllWindows()\n"
   ]
  },
  {
   "cell_type": "markdown",
   "metadata": {},
   "source": [
    "원"
   ]
  },
  {
   "cell_type": "code",
   "execution_count": 28,
   "metadata": {},
   "outputs": [
    {
     "ename": "KeyboardInterrupt",
     "evalue": "",
     "output_type": "error",
     "traceback": [
      "\u001b[1;31m---------------------------------------------------------------------------\u001b[0m",
      "\u001b[1;31mKeyboardInterrupt\u001b[0m                         Traceback (most recent call last)",
      "Cell \u001b[1;32mIn[28], line 13\u001b[0m\n\u001b[0;32m     10\u001b[0m cv2\u001b[38;5;241m.\u001b[39mcircle(img, (\u001b[38;5;241m400\u001b[39m, \u001b[38;5;241m100\u001b[39m), RADIUS, COLOR, cv2\u001b[38;5;241m.\u001b[39mFILLED, cv2\u001b[38;5;241m.\u001b[39mLINE_AA) \u001b[38;5;66;03m# 꽉 찬 원\u001b[39;00m\n\u001b[0;32m     12\u001b[0m cv2\u001b[38;5;241m.\u001b[39mimshow(\u001b[38;5;124m'\u001b[39m\u001b[38;5;124mimg\u001b[39m\u001b[38;5;124m'\u001b[39m, img)\n\u001b[1;32m---> 13\u001b[0m \u001b[43mcv2\u001b[49m\u001b[38;5;241;43m.\u001b[39;49m\u001b[43mwaitKey\u001b[49m\u001b[43m(\u001b[49m\u001b[38;5;241;43m0\u001b[39;49m\u001b[43m)\u001b[49m\n\u001b[0;32m     14\u001b[0m cv2\u001b[38;5;241m.\u001b[39mdestroyAllWindows()\n",
      "\u001b[1;31mKeyboardInterrupt\u001b[0m: "
     ]
    }
   ],
   "source": [
    "import cv2\n",
    "import numpy as np\n",
    "img = np.zeros((480, 640, 3), dtype=np.uint8)\n",
    "COLOR = (255, 255, 0) # BGR 옥색\n",
    "RADIUS = 50 # 반지름\n",
    "THICKNESS = 10 # 두께\n",
    "\n",
    "cv2.circle(img, (200, 100), RADIUS, COLOR, THICKNESS, cv2.LINE_AA) # 속이 빈 원\n",
    "# 그릴 위치, 원의 중심점, 반지름, 색깔, 두께, 선 종류\n",
    "cv2.circle(img, (400, 100), RADIUS, COLOR, cv2.FILLED, cv2.LINE_AA) # 꽉 찬 원\n",
    "\n",
    "cv2.imshow('img', img)\n",
    "cv2.waitKey(0)\n",
    "cv2.destroyAllWindows()\n"
   ]
  },
  {
   "cell_type": "markdown",
   "metadata": {},
   "source": [
    "사각형"
   ]
  },
  {
   "cell_type": "code",
   "execution_count": 29,
   "metadata": {},
   "outputs": [],
   "source": [
    "import cv2\n",
    "import numpy as np\n",
    "img = np.zeros((480, 640, 3), dtype=np.uint8)\n",
    "COLOR = (0, 255, 0) # BGR 초록색\n",
    "THICKNESS = 3 # 두께\n",
    "\n",
    "cv2.rectangle(img, (100, 100), (200, 200), COLOR, THICKNESS) # 속이 빈 사각형\n",
    "# 그릴 위치, 왼쪽 위 좌표, 오른쪽 아래 좌표, 색깔, 두께\n",
    "cv2.rectangle(img, (300, 100), (400, 300), COLOR, cv2.FILLED) # 꽉 찬 사각형\n",
    "\n",
    "cv2.imshow('img', img)\n",
    "cv2.waitKey(0)\n",
    "cv2.destroyAllWindows()\n"
   ]
  },
  {
   "cell_type": "markdown",
   "metadata": {},
   "source": [
    "다각형"
   ]
  },
  {
   "cell_type": "code",
   "execution_count": 30,
   "metadata": {},
   "outputs": [],
   "source": [
    "import cv2\n",
    "import numpy as np\n",
    "img = np.zeros((480, 640, 3), dtype=np.uint8)\n",
    "COLOR = (0, 0, 255) # BGR 빨간색\n",
    "THICKNESS = 3 # 두께\n",
    "pts1 = np.array([[100, 100], [200, 100], [100, 200]])\n",
    "pts2 = np.array([[200, 100], [300, 100], [300, 200]])\n",
    "# cv2.polylines(img, [pts1], True, COLOR, THICKNESS, cv2.LINE_AA)\n",
    "# cv2.polylines(img, [pts2], True, COLOR, THICKNESS, cv2.LINE_AA)\n",
    "cv2.polylines(img, [pts1, pts2], True, COLOR, THICKNESS, cv2.LINE_AA) # 속이 빈 다각형\n",
    "# 그릴 위치, 그릴 좌표들, 닫힘 여부, 색깔, 두께, 선 종류\n",
    "pts3 = np.array([[[100, 300], [200, 300], [100, 400]], [[200, 300], [300, 300], [300, 400]]])\n",
    "cv2.fillPoly(img, pts3, COLOR, cv2.LINE_AA) # 꽉 찬 다각형\n",
    "# 그릴 위치, 그릴 좌표들, 색깔, 선 종류\n",
    "cv2.imshow('img', img)\n",
    "cv2.waitKey(0)\n",
    "cv2.destroyAllWindows()"
   ]
  },
  {
   "cell_type": "markdown",
   "metadata": {},
   "source": [
    "텍스트"
   ]
  },
  {
   "cell_type": "code",
   "execution_count": 32,
   "metadata": {},
   "outputs": [],
   "source": [
    "import numpy as np\n",
    "import cv2\n",
    "img = np.zeros((480, 640, 3), dtype=np.uint8)\n",
    "SCALE = 1 # 크기\n",
    "COLOR = (255, 255, 255) # 흰색\n",
    "THICKNESS = 1 # 두께\n",
    "cv2.putText(img, \"AISWC\", (20, 50), cv2.FONT_HERSHEY_SIMPLEX, SCALE, COLOR, THICKNESS)\n",
    "# 그릴 위치, 텍스트 내용, 시작 위치, 폰트 종류, 크기, 색깔, 두께\n",
    "cv2.putText(img, \"AISWC\", (20, 150), cv2.FONT_HERSHEY_PLAIN, SCALE, COLOR, THICKNESS)\n",
    "cv2.putText(img, \"AISWC\", (20, 250), cv2.FONT_HERSHEY_SCRIPT_SIMPLEX, SCALE, COLOR, THICKNESS)\n",
    "cv2.putText(img, \"AISWC\", (20, 350), cv2.FONT_HERSHEY_TRIPLEX, SCALE, COLOR, THICKNESS)\n",
    "cv2.putText(img, \"AISWC\", (20, 450), cv2.FONT_HERSHEY_TRIPLEX | cv2.FONT_ITALIC, SCALE, COLOR, THICKNESS)\n",
    "cv2.imshow('img', img)\n",
    "cv2.waitKey(0)\n",
    "cv2.destroyAllWindows()\n"
   ]
  },
  {
   "cell_type": "markdown",
   "metadata": {},
   "source": [
    "한글"
   ]
  },
  {
   "cell_type": "code",
   "execution_count": 33,
   "metadata": {},
   "outputs": [
    {
     "ename": "SyntaxError",
     "evalue": "invalid character '“' (U+201C) (4226320445.py, line 7)",
     "output_type": "error",
     "traceback": [
      "\u001b[1;36m  Cell \u001b[1;32mIn[33], line 7\u001b[1;36m\u001b[0m\n\u001b[1;33m    cv2.putText(img, “인공지능SW융합과\", (20, 50), cv2.FONT_HERSHEY_SIMPLEX, SCALE, COLOR, THICKNESS)\u001b[0m\n\u001b[1;37m                     ^\u001b[0m\n\u001b[1;31mSyntaxError\u001b[0m\u001b[1;31m:\u001b[0m invalid character '“' (U+201C)\n"
     ]
    }
   ],
   "source": [
    "import numpy as np\n",
    "import cv2\n",
    "img = np.zeros((480, 640, 3), dtype=np.uint8)\n",
    "SCALE = 1 # 크기\n",
    "COLOR = (255, 255, 255) # 흰색\n",
    "THICKNESS = 1 # 두께\n",
    "cv2.putText(img, “인공지능SW융합과\", (20, 50), cv2.FONT_HERSHEY_SIMPLEX, SCALE, COLOR, THICKNESS)\n",
    "# 그릴 위치, 텍스트 내용, 시작 위치, 폰트 종류, 크기, 색깔, 두께\n",
    "cv2.imshow('img', img)\n",
    "cv2.waitKey(0)\n",
    "cv2.destroyAllWindows()\n"
   ]
  },
  {
   "cell_type": "markdown",
   "metadata": {},
   "source": [
    "한글우회 방법"
   ]
  },
  {
   "cell_type": "code",
   "execution_count": 35,
   "metadata": {},
   "outputs": [
    {
     "ename": "IndentationError",
     "evalue": "expected an indented block after function definition on line 5 (1165377812.py, line 6)",
     "output_type": "error",
     "traceback": [
      "\u001b[1;36m  Cell \u001b[1;32mIn[35], line 6\u001b[1;36m\u001b[0m\n\u001b[1;33m    img_pil = Image.fromarray(src)\u001b[0m\n\u001b[1;37m    ^\u001b[0m\n\u001b[1;31mIndentationError\u001b[0m\u001b[1;31m:\u001b[0m expected an indented block after function definition on line 5\n"
     ]
    }
   ],
   "source": [
    "import numpy as np\n",
    "import cv2\n",
    "# PIL (Python Image Library)\n",
    "from PIL import ImageFont, ImageDraw, Image\n",
    "def myPutText(src, text, pos, font_size, font_color):\n",
    "img_pil = Image.fromarray(src)\n",
    "draw = ImageDraw.Draw(img_pil)\n",
    "font = ImageFont.truetype('fonts/gulim.ttc', font_size)\n",
    "draw.text(pos, text, font=font, fill=font_color)\n",
    "return np.array(img_pil)\n",
    "img = np.zeros((480, 640, 3), dtype=np.uint8)\n",
    "FONT_SIZE = 30\n",
    "COLOR = (255, 255, 255) # 흰색\n",
    "# cv2.putText(img, \"인공지능SW융합과\", (20, 50), cv2.FONT_HERSHEY_SIMPLEX, SCALE, COLOR, THICKNESS)\n",
    "# 그릴 위치, 텍스트 내용, 시작 위치, 폰트 종류, 크기, 색깔, 두께\n",
    "img = myPutText(img, \"인공지능SW융합과\", (20, 50), FONT_SIZE, COLOR)\n",
    "cv2.imshow('img', img)\n",
    "cv2.waitKey(0)\n",
    "cv2.destroyAllWindows()\n"
   ]
  }
 ],
 "metadata": {
  "kernelspec": {
   "display_name": "base",
   "language": "python",
   "name": "python3"
  },
  "language_info": {
   "codemirror_mode": {
    "name": "ipython",
    "version": 3
   },
   "file_extension": ".py",
   "mimetype": "text/x-python",
   "name": "python",
   "nbconvert_exporter": "python",
   "pygments_lexer": "ipython3",
   "version": "3.12.2"
  }
 },
 "nbformat": 4,
 "nbformat_minor": 2
}
